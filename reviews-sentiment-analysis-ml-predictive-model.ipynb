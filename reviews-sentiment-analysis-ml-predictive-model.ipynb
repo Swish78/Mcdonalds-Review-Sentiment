{
 "cells": [
  {
   "attachments": {},
   "cell_type": "markdown",
   "id": "a79d2835",
   "metadata": {
    "papermill": {
     "duration": 0.011664,
     "end_time": "2023-06-27T11:53:20.786986",
     "exception": false,
     "start_time": "2023-06-27T11:53:20.775322",
     "status": "completed"
    },
    "tags": []
   },
   "source": [
    "<h1 style='background:#D80000; border:0; color:#FFC72C; padding: 20px; text-align: center'>McDonald's Sentiment Analysis Notebook</h1>"
   ]
  },
  {
   "attachments": {},
   "cell_type": "markdown",
   "id": "2acbdd68",
   "metadata": {
    "papermill": {
     "duration": 0.010828,
     "end_time": "2023-06-27T11:53:20.809025",
     "exception": false,
     "start_time": "2023-06-27T11:53:20.798197",
     "status": "completed"
    },
    "tags": []
   },
   "source": [
    "<p>In my notebook, I embark on a comprehensive analysis of McDonald's store reviews, leveraging sentiment analysis and machine learning techniques, particularly utilizing the Support Vector Classifier (SVC) algorithm. The goal of this project is to predict the sentiment expressed in the reviews and gain valuable insights into customer perceptions.\n",
    "\n",
    "With a vast dataset obtained from Kaggle, encompassing a diverse range of customer feedback, I delve into the world of sentiment analysis. By dividing the dataset into training and test sets, I ensure the accurate evaluation of my sentiment analysis model's performance.\n",
    "\n",
    "Employing the SVC algorithm, I train the model on the labeled training data, enabling it to learn and make sentiment predictions based on the review features. Through vectorization techniques, I convert the textual data into numerical representations suitable for the SVC algorithm, allowing for effective sentiment analysis.\n",
    "\n",
    "To enhance usability, I develop a function that takes user-input reviews and provides real-time sentiment predictions using the trained SVC model. This functionality empowers businesses, including McDonald's, to gain valuable insights into customer sentiments and make data-driven decisions to enhance customer satisfaction.\n",
    "\n",
    "By merging sentiment analysis, machine learning, and a vast dataset of McDonald's store reviews, this notebook aims to provide a comprehensive understanding of customer perceptions. It equips businesses with the tools to analyze sentiments effectively and improve their offerings based on customer feedback.</p>"
   ]
  },
  {
   "attachments": {},
   "cell_type": "markdown",
   "id": "1f380dd4",
   "metadata": {
    "papermill": {
     "duration": 0.010816,
     "end_time": "2023-06-27T11:53:20.830933",
     "exception": false,
     "start_time": "2023-06-27T11:53:20.820117",
     "status": "completed"
    },
    "tags": []
   },
   "source": [
    "<div style=\"width:100%;text-align: center;\"> <img align=middle src=\"https://m.economictimes.com/thumb/msid-71699011,width-1200,height-900,resizemode-4,imgsize-250370/mcd-bccl.jpg\" alt=\"Heat beating\" style=\"height:366px;margin-top:3rem;\"> </div>"
   ]
  },
  {
   "attachments": {},
   "cell_type": "markdown",
   "id": "dab567bb",
   "metadata": {
    "papermill": {
     "duration": 0.010867,
     "end_time": "2023-06-27T11:53:20.852833",
     "exception": false,
     "start_time": "2023-06-27T11:53:20.841966",
     "status": "completed"
    },
    "tags": []
   },
   "source": [
    "# Sentiment Analysis:"
   ]
  },
  {
   "attachments": {},
   "cell_type": "markdown",
   "id": "01b25a01",
   "metadata": {
    "papermill": {
     "duration": 0.011141,
     "end_time": "2023-06-27T11:53:20.875286",
     "exception": false,
     "start_time": "2023-06-27T11:53:20.864145",
     "status": "completed"
    },
    "tags": []
   },
   "source": [
    "<p>In the sentiment analysis section, I imported the dataset and examined its columns, head, sample records, and information to gain a better understanding of the data. I then utilized the SentimentIntensityAnalyzer, a popular sentiment analysis tool, to calculate sentiment scores for each text entry.\n",
    "\n",
    "Based on these sentiment scores, I classified the text into different sentiment categories. For example, if the sentiment score was positive, I flagged the text as positive sentiment. Similarly, for negative sentiment scores, I labeled the text as negative sentiment. This process allowed me to categorize the dataset based on sentiment and gain insights into the overall sentiment distribution.</p>"
   ]
  },
  {
   "attachments": {},
   "cell_type": "markdown",
   "id": "823453a2",
   "metadata": {
    "papermill": {
     "duration": 0.010852,
     "end_time": "2023-06-27T11:53:20.897108",
     "exception": false,
     "start_time": "2023-06-27T11:53:20.886256",
     "status": "completed"
    },
    "tags": []
   },
   "source": [
    "<h2>Importing Libraries</h2>"
   ]
  },
  {
   "attachments": {},
   "cell_type": "markdown",
   "id": "0534f976",
   "metadata": {
    "papermill": {
     "duration": 0.010827,
     "end_time": "2023-06-27T11:53:20.919115",
     "exception": false,
     "start_time": "2023-06-27T11:53:20.908288",
     "status": "completed"
    },
    "tags": []
   },
   "source": [
    "Basic ML Libraries"
   ]
  },
  {
   "cell_type": "code",
   "execution_count": 1,
   "id": "acfedb22",
   "metadata": {
    "execution": {
     "iopub.execute_input": "2023-06-27T11:53:20.943407Z",
     "iopub.status.busy": "2023-06-27T11:53:20.942678Z",
     "iopub.status.idle": "2023-06-27T11:53:22.212138Z",
     "shell.execute_reply": "2023-06-27T11:53:22.211169Z"
    },
    "papermill": {
     "duration": 1.284602,
     "end_time": "2023-06-27T11:53:22.214707",
     "exception": false,
     "start_time": "2023-06-27T11:53:20.930105",
     "status": "completed"
    },
    "pycharm": {
     "is_executing": true
    },
    "tags": []
   },
   "outputs": [],
   "source": [
    "import numpy as np \n",
    "import pandas as pd\n",
    "import matplotlib.pyplot as plt\n",
    "import seaborn as sns"
   ]
  },
  {
   "attachments": {},
   "cell_type": "markdown",
   "id": "f74dba93",
   "metadata": {
    "papermill": {
     "duration": 0.010963,
     "end_time": "2023-06-27T11:53:22.237116",
     "exception": false,
     "start_time": "2023-06-27T11:53:22.226153",
     "status": "completed"
    },
    "tags": []
   },
   "source": [
    "**For Ignoring Warnings**"
   ]
  },
  {
   "cell_type": "code",
   "execution_count": 2,
   "id": "4d89b493",
   "metadata": {
    "execution": {
     "iopub.execute_input": "2023-06-27T11:53:22.261289Z",
     "iopub.status.busy": "2023-06-27T11:53:22.260291Z",
     "iopub.status.idle": "2023-06-27T11:53:22.264981Z",
     "shell.execute_reply": "2023-06-27T11:53:22.264123Z"
    },
    "papermill": {
     "duration": 0.01895,
     "end_time": "2023-06-27T11:53:22.267117",
     "exception": false,
     "start_time": "2023-06-27T11:53:22.248167",
     "status": "completed"
    },
    "tags": []
   },
   "outputs": [],
   "source": [
    "import warnings\n",
    "warnings.filterwarnings(\"ignore\")"
   ]
  },
  {
   "attachments": {},
   "cell_type": "markdown",
   "id": "db1c3d90",
   "metadata": {
    "papermill": {
     "duration": 0.010889,
     "end_time": "2023-06-27T11:53:22.289091",
     "exception": false,
     "start_time": "2023-06-27T11:53:22.278202",
     "status": "completed"
    },
    "tags": []
   },
   "source": [
    "**For Sentiment Analysis**"
   ]
  },
  {
   "cell_type": "code",
   "execution_count": 3,
   "id": "5e7c41ec",
   "metadata": {
    "execution": {
     "iopub.execute_input": "2023-06-27T11:53:22.312437Z",
     "iopub.status.busy": "2023-06-27T11:53:22.312157Z",
     "iopub.status.idle": "2023-06-27T11:53:23.060446Z",
     "shell.execute_reply": "2023-06-27T11:53:23.059494Z"
    },
    "papermill": {
     "duration": 0.762905,
     "end_time": "2023-06-27T11:53:23.063071",
     "exception": false,
     "start_time": "2023-06-27T11:53:22.300166",
     "status": "completed"
    },
    "tags": []
   },
   "outputs": [],
   "source": [
    "import pandas as pd\n",
    "import nltk\n",
    "from nltk.sentiment import SentimentIntensityAnalyzer"
   ]
  },
  {
   "attachments": {},
   "cell_type": "markdown",
   "id": "c0cb5ab8",
   "metadata": {
    "papermill": {
     "duration": 0.0109,
     "end_time": "2023-06-27T11:53:23.085202",
     "exception": false,
     "start_time": "2023-06-27T11:53:23.074302",
     "status": "completed"
    },
    "tags": []
   },
   "source": [
    "**For Building Model**"
   ]
  },
  {
   "cell_type": "code",
   "execution_count": 4,
   "id": "c311118b",
   "metadata": {
    "execution": {
     "iopub.execute_input": "2023-06-27T11:53:23.108523Z",
     "iopub.status.busy": "2023-06-27T11:53:23.108238Z",
     "iopub.status.idle": "2023-06-27T11:53:23.112945Z",
     "shell.execute_reply": "2023-06-27T11:53:23.112013Z"
    },
    "papermill": {
     "duration": 0.018661,
     "end_time": "2023-06-27T11:53:23.114819",
     "exception": false,
     "start_time": "2023-06-27T11:53:23.096158",
     "status": "completed"
    },
    "tags": []
   },
   "outputs": [],
   "source": [
    "import pandas as pd\n",
    "from sklearn.model_selection import train_test_split\n",
    "from sklearn.feature_extraction.text import TfidfVectorizer\n",
    "from sklearn.svm import SVC\n",
    "from sklearn.metrics import accuracy_score, classification_report"
   ]
  },
  {
   "attachments": {},
   "cell_type": "markdown",
   "id": "0b4c851e",
   "metadata": {
    "papermill": {
     "duration": 0.010982,
     "end_time": "2023-06-27T11:53:23.136745",
     "exception": false,
     "start_time": "2023-06-27T11:53:23.125763",
     "status": "completed"
    },
    "tags": []
   },
   "source": [
    "<h1 style='background:#FFC72C; border:0; color:#D80000'><center>McDonald's Sentiment Analysis: Understanding Customer Feedback</center></h1>"
   ]
  },
  {
   "attachments": {},
   "cell_type": "markdown",
   "id": "4ab23c80",
   "metadata": {
    "papermill": {
     "duration": 0.010783,
     "end_time": "2023-06-27T11:53:23.158566",
     "exception": false,
     "start_time": "2023-06-27T11:53:23.147783",
     "status": "completed"
    },
    "tags": []
   },
   "source": [
    "* <h2>Dataset Import:</h2>\n",
    "I imported the dataset into my notebook to access the review data and associated sentiments."
   ]
  },
  {
   "cell_type": "code",
   "execution_count": 5,
   "id": "65fe6e8a",
   "metadata": {
    "execution": {
     "iopub.execute_input": "2023-06-27T11:53:23.182619Z",
     "iopub.status.busy": "2023-06-27T11:53:23.181864Z",
     "iopub.status.idle": "2023-06-27T11:53:23.454723Z",
     "shell.execute_reply": "2023-06-27T11:53:23.453781Z"
    },
    "papermill": {
     "duration": 0.287468,
     "end_time": "2023-06-27T11:53:23.457238",
     "exception": false,
     "start_time": "2023-06-27T11:53:23.169770",
     "status": "completed"
    },
    "tags": []
   },
   "outputs": [],
   "source": [
    "mcd = pd.read_csv(\"/kaggle/input/mcdonalds-store-reviews/McDonald_s_Reviews.csv\", encoding=\"latin-1\")"
   ]
  },
  {
   "attachments": {},
   "cell_type": "markdown",
   "id": "7f518aef",
   "metadata": {
    "papermill": {
     "duration": 0.011038,
     "end_time": "2023-06-27T11:53:23.479606",
     "exception": false,
     "start_time": "2023-06-27T11:53:23.468568",
     "status": "completed"
    },
    "tags": []
   },
   "source": [
    "* <h2>Data Exploration:</h2>\n",
    "To understand the dataset, I examined its columns, inspected the first few rows using the head() function, and reviewed a sample of records. This exploration provided insights into the dataset's structure and contents."
   ]
  },
  {
   "cell_type": "code",
   "execution_count": 6,
   "id": "58cde95b",
   "metadata": {
    "execution": {
     "iopub.execute_input": "2023-06-27T11:53:23.507289Z",
     "iopub.status.busy": "2023-06-27T11:53:23.506327Z",
     "iopub.status.idle": "2023-06-27T11:53:23.514698Z",
     "shell.execute_reply": "2023-06-27T11:53:23.513865Z"
    },
    "papermill": {
     "duration": 0.026029,
     "end_time": "2023-06-27T11:53:23.516600",
     "exception": false,
     "start_time": "2023-06-27T11:53:23.490571",
     "status": "completed"
    },
    "tags": []
   },
   "outputs": [
    {
     "data": {
      "text/plain": [
       "Index(['reviewer_id', 'store_name', 'category', 'store_address', 'latitude ',\n",
       "       'longitude', 'rating_count', 'review_time', 'review', 'rating'],\n",
       "      dtype='object')"
      ]
     },
     "execution_count": 6,
     "metadata": {},
     "output_type": "execute_result"
    }
   ],
   "source": [
    "mcd.columns"
   ]
  },
  {
   "attachments": {},
   "cell_type": "markdown",
   "id": "0b535a8d",
   "metadata": {
    "papermill": {
     "duration": 0.011916,
     "end_time": "2023-06-27T11:53:23.539658",
     "exception": false,
     "start_time": "2023-06-27T11:53:23.527742",
     "status": "completed"
    },
    "tags": []
   },
   "source": [
    "<h3>short Description of each column</h3>"
   ]
  },
  {
   "attachments": {},
   "cell_type": "markdown",
   "id": "bf9bba21",
   "metadata": {
    "papermill": {
     "duration": 0.014618,
     "end_time": "2023-06-27T11:53:23.566579",
     "exception": false,
     "start_time": "2023-06-27T11:53:23.551961",
     "status": "completed"
    },
    "tags": []
   },
   "source": [
    "* reviewer_id: Unique identifier for each reviewer (anonymized)\n",
    "* store_name: Name of the McDonald's store\n",
    "* category: Category or type of the store\n",
    "* store_address: Address of the store\n",
    "* latitude: Latitude coordinate of the store's location\n",
    "* longitude: Longitude coordinate of the store's location\n",
    "* rating_count: Number of ratings/reviews for the store\n",
    "* review_time: Timestamp of the review\n",
    "* review: Textual content of the review\n",
    "* rating: Rating provided by the reviewer"
   ]
  },
  {
   "cell_type": "code",
   "execution_count": 7,
   "id": "17b6c944",
   "metadata": {
    "execution": {
     "iopub.execute_input": "2023-06-27T11:53:23.594426Z",
     "iopub.status.busy": "2023-06-27T11:53:23.594099Z",
     "iopub.status.idle": "2023-06-27T11:53:23.616973Z",
     "shell.execute_reply": "2023-06-27T11:53:23.616151Z"
    },
    "papermill": {
     "duration": 0.039213,
     "end_time": "2023-06-27T11:53:23.619003",
     "exception": false,
     "start_time": "2023-06-27T11:53:23.579790",
     "status": "completed"
    },
    "tags": []
   },
   "outputs": [
    {
     "data": {
      "text/html": [
       "<div>\n",
       "<style scoped>\n",
       "    .dataframe tbody tr th:only-of-type {\n",
       "        vertical-align: middle;\n",
       "    }\n",
       "\n",
       "    .dataframe tbody tr th {\n",
       "        vertical-align: top;\n",
       "    }\n",
       "\n",
       "    .dataframe thead th {\n",
       "        text-align: right;\n",
       "    }\n",
       "</style>\n",
       "<table border=\"1\" class=\"dataframe\">\n",
       "  <thead>\n",
       "    <tr style=\"text-align: right;\">\n",
       "      <th></th>\n",
       "      <th>reviewer_id</th>\n",
       "      <th>store_name</th>\n",
       "      <th>category</th>\n",
       "      <th>store_address</th>\n",
       "      <th>latitude</th>\n",
       "      <th>longitude</th>\n",
       "      <th>rating_count</th>\n",
       "      <th>review_time</th>\n",
       "      <th>review</th>\n",
       "      <th>rating</th>\n",
       "    </tr>\n",
       "  </thead>\n",
       "  <tbody>\n",
       "    <tr>\n",
       "      <th>0</th>\n",
       "      <td>1</td>\n",
       "      <td>McDonald's</td>\n",
       "      <td>Fast food restaurant</td>\n",
       "      <td>13749 US-183 Hwy, Austin, TX 78750, United States</td>\n",
       "      <td>30.460718</td>\n",
       "      <td>-97.792874</td>\n",
       "      <td>1,240</td>\n",
       "      <td>3 months ago</td>\n",
       "      <td>Why does it look like someone spit on my food?...</td>\n",
       "      <td>1 star</td>\n",
       "    </tr>\n",
       "    <tr>\n",
       "      <th>1</th>\n",
       "      <td>2</td>\n",
       "      <td>McDonald's</td>\n",
       "      <td>Fast food restaurant</td>\n",
       "      <td>13749 US-183 Hwy, Austin, TX 78750, United States</td>\n",
       "      <td>30.460718</td>\n",
       "      <td>-97.792874</td>\n",
       "      <td>1,240</td>\n",
       "      <td>5 days ago</td>\n",
       "      <td>It'd McDonalds. It is what it is as far as the...</td>\n",
       "      <td>4 stars</td>\n",
       "    </tr>\n",
       "    <tr>\n",
       "      <th>2</th>\n",
       "      <td>3</td>\n",
       "      <td>McDonald's</td>\n",
       "      <td>Fast food restaurant</td>\n",
       "      <td>13749 US-183 Hwy, Austin, TX 78750, United States</td>\n",
       "      <td>30.460718</td>\n",
       "      <td>-97.792874</td>\n",
       "      <td>1,240</td>\n",
       "      <td>5 days ago</td>\n",
       "      <td>Made a mobile order got to the speaker and che...</td>\n",
       "      <td>1 star</td>\n",
       "    </tr>\n",
       "    <tr>\n",
       "      <th>3</th>\n",
       "      <td>4</td>\n",
       "      <td>McDonald's</td>\n",
       "      <td>Fast food restaurant</td>\n",
       "      <td>13749 US-183 Hwy, Austin, TX 78750, United States</td>\n",
       "      <td>30.460718</td>\n",
       "      <td>-97.792874</td>\n",
       "      <td>1,240</td>\n",
       "      <td>a month ago</td>\n",
       "      <td>My mc. Crispy chicken sandwich was ï¿½ï¿½ï¿½ï¿...</td>\n",
       "      <td>5 stars</td>\n",
       "    </tr>\n",
       "    <tr>\n",
       "      <th>4</th>\n",
       "      <td>5</td>\n",
       "      <td>McDonald's</td>\n",
       "      <td>Fast food restaurant</td>\n",
       "      <td>13749 US-183 Hwy, Austin, TX 78750, United States</td>\n",
       "      <td>30.460718</td>\n",
       "      <td>-97.792874</td>\n",
       "      <td>1,240</td>\n",
       "      <td>2 months ago</td>\n",
       "      <td>I repeat my order 3 times in the drive thru, a...</td>\n",
       "      <td>1 star</td>\n",
       "    </tr>\n",
       "    <tr>\n",
       "      <th>5</th>\n",
       "      <td>6</td>\n",
       "      <td>McDonald's</td>\n",
       "      <td>Fast food restaurant</td>\n",
       "      <td>13749 US-183 Hwy, Austin, TX 78750, United States</td>\n",
       "      <td>30.460718</td>\n",
       "      <td>-97.792874</td>\n",
       "      <td>1,240</td>\n",
       "      <td>3 weeks ago</td>\n",
       "      <td>I work for door dash and they locked us all ou...</td>\n",
       "      <td>1 star</td>\n",
       "    </tr>\n",
       "    <tr>\n",
       "      <th>6</th>\n",
       "      <td>7</td>\n",
       "      <td>McDonald's</td>\n",
       "      <td>Fast food restaurant</td>\n",
       "      <td>13749 US-183 Hwy, Austin, TX 78750, United States</td>\n",
       "      <td>30.460718</td>\n",
       "      <td>-97.792874</td>\n",
       "      <td>1,240</td>\n",
       "      <td>3 months ago</td>\n",
       "      <td>If I  could give this location a zero on custo...</td>\n",
       "      <td>1 star</td>\n",
       "    </tr>\n",
       "    <tr>\n",
       "      <th>7</th>\n",
       "      <td>8</td>\n",
       "      <td>McDonald's</td>\n",
       "      <td>Fast food restaurant</td>\n",
       "      <td>13749 US-183 Hwy, Austin, TX 78750, United States</td>\n",
       "      <td>30.460718</td>\n",
       "      <td>-97.792874</td>\n",
       "      <td>1,240</td>\n",
       "      <td>a year ago</td>\n",
       "      <td>Came in and ordered a Large coffee w/no ice. T...</td>\n",
       "      <td>1 star</td>\n",
       "    </tr>\n",
       "    <tr>\n",
       "      <th>8</th>\n",
       "      <td>9</td>\n",
       "      <td>McDonald's</td>\n",
       "      <td>Fast food restaurant</td>\n",
       "      <td>13749 US-183 Hwy, Austin, TX 78750, United States</td>\n",
       "      <td>30.460718</td>\n",
       "      <td>-97.792874</td>\n",
       "      <td>1,240</td>\n",
       "      <td>3 months ago</td>\n",
       "      <td>Went thru drive thru. Ordered. Getting home no...</td>\n",
       "      <td>1 star</td>\n",
       "    </tr>\n",
       "    <tr>\n",
       "      <th>9</th>\n",
       "      <td>10</td>\n",
       "      <td>McDonald's</td>\n",
       "      <td>Fast food restaurant</td>\n",
       "      <td>13749 US-183 Hwy, Austin, TX 78750, United States</td>\n",
       "      <td>30.460718</td>\n",
       "      <td>-97.792874</td>\n",
       "      <td>1,240</td>\n",
       "      <td>3 months ago</td>\n",
       "      <td>I'm not really a huge fan of fast food, but I ...</td>\n",
       "      <td>4 stars</td>\n",
       "    </tr>\n",
       "  </tbody>\n",
       "</table>\n",
       "</div>"
      ],
      "text/plain": [
       "   reviewer_id  store_name              category  \\\n",
       "0            1  McDonald's  Fast food restaurant   \n",
       "1            2  McDonald's  Fast food restaurant   \n",
       "2            3  McDonald's  Fast food restaurant   \n",
       "3            4  McDonald's  Fast food restaurant   \n",
       "4            5  McDonald's  Fast food restaurant   \n",
       "5            6  McDonald's  Fast food restaurant   \n",
       "6            7  McDonald's  Fast food restaurant   \n",
       "7            8  McDonald's  Fast food restaurant   \n",
       "8            9  McDonald's  Fast food restaurant   \n",
       "9           10  McDonald's  Fast food restaurant   \n",
       "\n",
       "                                       store_address  latitude   longitude  \\\n",
       "0  13749 US-183 Hwy, Austin, TX 78750, United States  30.460718 -97.792874   \n",
       "1  13749 US-183 Hwy, Austin, TX 78750, United States  30.460718 -97.792874   \n",
       "2  13749 US-183 Hwy, Austin, TX 78750, United States  30.460718 -97.792874   \n",
       "3  13749 US-183 Hwy, Austin, TX 78750, United States  30.460718 -97.792874   \n",
       "4  13749 US-183 Hwy, Austin, TX 78750, United States  30.460718 -97.792874   \n",
       "5  13749 US-183 Hwy, Austin, TX 78750, United States  30.460718 -97.792874   \n",
       "6  13749 US-183 Hwy, Austin, TX 78750, United States  30.460718 -97.792874   \n",
       "7  13749 US-183 Hwy, Austin, TX 78750, United States  30.460718 -97.792874   \n",
       "8  13749 US-183 Hwy, Austin, TX 78750, United States  30.460718 -97.792874   \n",
       "9  13749 US-183 Hwy, Austin, TX 78750, United States  30.460718 -97.792874   \n",
       "\n",
       "  rating_count   review_time  \\\n",
       "0        1,240  3 months ago   \n",
       "1        1,240    5 days ago   \n",
       "2        1,240    5 days ago   \n",
       "3        1,240   a month ago   \n",
       "4        1,240  2 months ago   \n",
       "5        1,240   3 weeks ago   \n",
       "6        1,240  3 months ago   \n",
       "7        1,240    a year ago   \n",
       "8        1,240  3 months ago   \n",
       "9        1,240  3 months ago   \n",
       "\n",
       "                                              review   rating  \n",
       "0  Why does it look like someone spit on my food?...   1 star  \n",
       "1  It'd McDonalds. It is what it is as far as the...  4 stars  \n",
       "2  Made a mobile order got to the speaker and che...   1 star  \n",
       "3  My mc. Crispy chicken sandwich was ï¿½ï¿½ï¿½ï¿...  5 stars  \n",
       "4  I repeat my order 3 times in the drive thru, a...   1 star  \n",
       "5  I work for door dash and they locked us all ou...   1 star  \n",
       "6  If I  could give this location a zero on custo...   1 star  \n",
       "7  Came in and ordered a Large coffee w/no ice. T...   1 star  \n",
       "8  Went thru drive thru. Ordered. Getting home no...   1 star  \n",
       "9  I'm not really a huge fan of fast food, but I ...  4 stars  "
      ]
     },
     "execution_count": 7,
     "metadata": {},
     "output_type": "execute_result"
    }
   ],
   "source": [
    "mcd.head(10)"
   ]
  },
  {
   "cell_type": "code",
   "execution_count": 8,
   "id": "e0c8fc55",
   "metadata": {
    "execution": {
     "iopub.execute_input": "2023-06-27T11:53:23.643921Z",
     "iopub.status.busy": "2023-06-27T11:53:23.643169Z",
     "iopub.status.idle": "2023-06-27T11:53:23.661645Z",
     "shell.execute_reply": "2023-06-27T11:53:23.660804Z"
    },
    "papermill": {
     "duration": 0.033074,
     "end_time": "2023-06-27T11:53:23.663614",
     "exception": false,
     "start_time": "2023-06-27T11:53:23.630540",
     "status": "completed"
    },
    "tags": []
   },
   "outputs": [
    {
     "data": {
      "text/html": [
       "<div>\n",
       "<style scoped>\n",
       "    .dataframe tbody tr th:only-of-type {\n",
       "        vertical-align: middle;\n",
       "    }\n",
       "\n",
       "    .dataframe tbody tr th {\n",
       "        vertical-align: top;\n",
       "    }\n",
       "\n",
       "    .dataframe thead th {\n",
       "        text-align: right;\n",
       "    }\n",
       "</style>\n",
       "<table border=\"1\" class=\"dataframe\">\n",
       "  <thead>\n",
       "    <tr style=\"text-align: right;\">\n",
       "      <th></th>\n",
       "      <th>reviewer_id</th>\n",
       "      <th>store_name</th>\n",
       "      <th>category</th>\n",
       "      <th>store_address</th>\n",
       "      <th>latitude</th>\n",
       "      <th>longitude</th>\n",
       "      <th>rating_count</th>\n",
       "      <th>review_time</th>\n",
       "      <th>review</th>\n",
       "      <th>rating</th>\n",
       "    </tr>\n",
       "  </thead>\n",
       "  <tbody>\n",
       "    <tr>\n",
       "      <th>25542</th>\n",
       "      <td>25543</td>\n",
       "      <td>McDonald's</td>\n",
       "      <td>Fast food restaurant</td>\n",
       "      <td>632 S R L Thornton Freeway Service Rd, Dallas,...</td>\n",
       "      <td>32.744596</td>\n",
       "      <td>-96.812286</td>\n",
       "      <td>2,657</td>\n",
       "      <td>a year ago</td>\n",
       "      <td>gregory is amazing &amp; this place has good\\nserv...</td>\n",
       "      <td>5 stars</td>\n",
       "    </tr>\n",
       "    <tr>\n",
       "      <th>12962</th>\n",
       "      <td>12963</td>\n",
       "      <td>McDonald's</td>\n",
       "      <td>Fast food restaurant</td>\n",
       "      <td>501 W Imperial Hwy, Los Angeles, CA 90044, Uni...</td>\n",
       "      <td>33.931261</td>\n",
       "      <td>-118.282955</td>\n",
       "      <td>2,722</td>\n",
       "      <td>4 years ago</td>\n",
       "      <td>Slow as freaking molasses.. Customer service s...</td>\n",
       "      <td>1 star</td>\n",
       "    </tr>\n",
       "    <tr>\n",
       "      <th>18345</th>\n",
       "      <td>18346</td>\n",
       "      <td>McDonald's</td>\n",
       "      <td>Fast food restaurant</td>\n",
       "      <td>1100 N US Hwy 377, Roanoke, TX 76262, United S...</td>\n",
       "      <td>33.009318</td>\n",
       "      <td>-97.222925</td>\n",
       "      <td>998</td>\n",
       "      <td>3 years ago</td>\n",
       "      <td>Efficient even when busy. Can't speak for the ...</td>\n",
       "      <td>5 stars</td>\n",
       "    </tr>\n",
       "    <tr>\n",
       "      <th>23614</th>\n",
       "      <td>23615</td>\n",
       "      <td>McDonald's</td>\n",
       "      <td>Fast food restaurant</td>\n",
       "      <td>1415 E State Rd, Fern Park, FL 32730, United S...</td>\n",
       "      <td>28.655350</td>\n",
       "      <td>-81.342692</td>\n",
       "      <td>1,617</td>\n",
       "      <td>9 months ago</td>\n",
       "      <td>Typical McDonald's restaurant. Clean, relative...</td>\n",
       "      <td>4 stars</td>\n",
       "    </tr>\n",
       "    <tr>\n",
       "      <th>2630</th>\n",
       "      <td>2631</td>\n",
       "      <td>McDonald's</td>\n",
       "      <td>Fast food restaurant</td>\n",
       "      <td>72-69 Kissena Blvd, Queens, NY 11367, United S...</td>\n",
       "      <td>40.727401</td>\n",
       "      <td>-73.812460</td>\n",
       "      <td>2,193</td>\n",
       "      <td>2 years ago</td>\n",
       "      <td>Its McDonalds. You already know</td>\n",
       "      <td>4 stars</td>\n",
       "    </tr>\n",
       "    <tr>\n",
       "      <th>11810</th>\n",
       "      <td>11811</td>\n",
       "      <td>McDonald's</td>\n",
       "      <td>Fast food restaurant</td>\n",
       "      <td>1121 Garnet Ave, San Diego, CA 92109, United S...</td>\n",
       "      <td>32.797661</td>\n",
       "      <td>-117.249470</td>\n",
       "      <td>1,159</td>\n",
       "      <td>10 months ago</td>\n",
       "      <td>Excellent</td>\n",
       "      <td>5 stars</td>\n",
       "    </tr>\n",
       "    <tr>\n",
       "      <th>4792</th>\n",
       "      <td>4793</td>\n",
       "      <td>McDonald's</td>\n",
       "      <td>Fast food restaurant</td>\n",
       "      <td>724 Broadway, New York, NY 10003, United States</td>\n",
       "      <td>40.729126</td>\n",
       "      <td>-73.993264</td>\n",
       "      <td>1,670</td>\n",
       "      <td>5 years ago</td>\n",
       "      <td>Quick service but lack of cleanliness</td>\n",
       "      <td>2 stars</td>\n",
       "    </tr>\n",
       "    <tr>\n",
       "      <th>14085</th>\n",
       "      <td>14086</td>\n",
       "      <td>McDonald's</td>\n",
       "      <td>Fast food restaurant</td>\n",
       "      <td>25200 I-10 Lot 2, San Antonio, TX 78257, Unite...</td>\n",
       "      <td>29.676267</td>\n",
       "      <td>-98.634580</td>\n",
       "      <td>1,460</td>\n",
       "      <td>a year ago</td>\n",
       "      <td>Drive to the next McDonaldï¿½ï¿½ï¿½ï¿½ï¿½ï¿½ï¿...</td>\n",
       "      <td>1 star</td>\n",
       "    </tr>\n",
       "    <tr>\n",
       "      <th>811</th>\n",
       "      <td>812</td>\n",
       "      <td>McDonald's</td>\n",
       "      <td>Fast food restaurant</td>\n",
       "      <td>1698 US-209, Brodheadsville, PA 18322, United ...</td>\n",
       "      <td>40.922081</td>\n",
       "      <td>-75.399919</td>\n",
       "      <td>1,028</td>\n",
       "      <td>a year ago</td>\n",
       "      <td>They looked so gross from the start. They were...</td>\n",
       "      <td>1 star</td>\n",
       "    </tr>\n",
       "    <tr>\n",
       "      <th>31304</th>\n",
       "      <td>31305</td>\n",
       "      <td>McDonald's</td>\n",
       "      <td>Fast food restaurant</td>\n",
       "      <td>632 S R L Thornton Freeway Service Rd, Dallas,...</td>\n",
       "      <td>32.744596</td>\n",
       "      <td>-96.812286</td>\n",
       "      <td>2,658</td>\n",
       "      <td>a year ago</td>\n",
       "      <td>The tiger ï¿½ï¿½ï¿½ï¿½ï¿½ï¿½ï¿½ï¿½ï¿½ï¿½ï¿½ï¿½...</td>\n",
       "      <td>5 stars</td>\n",
       "    </tr>\n",
       "  </tbody>\n",
       "</table>\n",
       "</div>"
      ],
      "text/plain": [
       "       reviewer_id  store_name              category  \\\n",
       "25542        25543  McDonald's  Fast food restaurant   \n",
       "12962        12963  McDonald's  Fast food restaurant   \n",
       "18345        18346  McDonald's  Fast food restaurant   \n",
       "23614        23615  McDonald's  Fast food restaurant   \n",
       "2630          2631  McDonald's  Fast food restaurant   \n",
       "11810        11811  McDonald's  Fast food restaurant   \n",
       "4792          4793  McDonald's  Fast food restaurant   \n",
       "14085        14086  McDonald's  Fast food restaurant   \n",
       "811            812  McDonald's  Fast food restaurant   \n",
       "31304        31305  McDonald's  Fast food restaurant   \n",
       "\n",
       "                                           store_address  latitude   \\\n",
       "25542  632 S R L Thornton Freeway Service Rd, Dallas,...  32.744596   \n",
       "12962  501 W Imperial Hwy, Los Angeles, CA 90044, Uni...  33.931261   \n",
       "18345  1100 N US Hwy 377, Roanoke, TX 76262, United S...  33.009318   \n",
       "23614  1415 E State Rd, Fern Park, FL 32730, United S...  28.655350   \n",
       "2630   72-69 Kissena Blvd, Queens, NY 11367, United S...  40.727401   \n",
       "11810  1121 Garnet Ave, San Diego, CA 92109, United S...  32.797661   \n",
       "4792     724 Broadway, New York, NY 10003, United States  40.729126   \n",
       "14085  25200 I-10 Lot 2, San Antonio, TX 78257, Unite...  29.676267   \n",
       "811    1698 US-209, Brodheadsville, PA 18322, United ...  40.922081   \n",
       "31304  632 S R L Thornton Freeway Service Rd, Dallas,...  32.744596   \n",
       "\n",
       "        longitude rating_count    review_time  \\\n",
       "25542  -96.812286        2,657     a year ago   \n",
       "12962 -118.282955        2,722    4 years ago   \n",
       "18345  -97.222925          998    3 years ago   \n",
       "23614  -81.342692        1,617   9 months ago   \n",
       "2630   -73.812460        2,193    2 years ago   \n",
       "11810 -117.249470        1,159  10 months ago   \n",
       "4792   -73.993264        1,670    5 years ago   \n",
       "14085  -98.634580        1,460     a year ago   \n",
       "811    -75.399919        1,028     a year ago   \n",
       "31304  -96.812286        2,658     a year ago   \n",
       "\n",
       "                                                  review   rating  \n",
       "25542  gregory is amazing & this place has good\\nserv...  5 stars  \n",
       "12962  Slow as freaking molasses.. Customer service s...   1 star  \n",
       "18345  Efficient even when busy. Can't speak for the ...  5 stars  \n",
       "23614  Typical McDonald's restaurant. Clean, relative...  4 stars  \n",
       "2630                     Its McDonalds. You already know  4 stars  \n",
       "11810                                         Excellent   5 stars  \n",
       "4792               Quick service but lack of cleanliness  2 stars  \n",
       "14085  Drive to the next McDonaldï¿½ï¿½ï¿½ï¿½ï¿½ï¿½ï¿...   1 star  \n",
       "811    They looked so gross from the start. They were...   1 star  \n",
       "31304  The tiger ï¿½ï¿½ï¿½ï¿½ï¿½ï¿½ï¿½ï¿½ï¿½ï¿½ï¿½ï¿½...  5 stars  "
      ]
     },
     "execution_count": 8,
     "metadata": {},
     "output_type": "execute_result"
    }
   ],
   "source": [
    "mcd.sample(10)"
   ]
  },
  {
   "cell_type": "code",
   "execution_count": 9,
   "id": "a35c577f",
   "metadata": {
    "execution": {
     "iopub.execute_input": "2023-06-27T11:53:23.690033Z",
     "iopub.status.busy": "2023-06-27T11:53:23.689200Z",
     "iopub.status.idle": "2023-06-27T11:53:23.774077Z",
     "shell.execute_reply": "2023-06-27T11:53:23.773088Z"
    },
    "papermill": {
     "duration": 0.100817,
     "end_time": "2023-06-27T11:53:23.776566",
     "exception": false,
     "start_time": "2023-06-27T11:53:23.675749",
     "status": "completed"
    },
    "tags": []
   },
   "outputs": [
    {
     "name": "stdout",
     "output_type": "stream",
     "text": [
      "<class 'pandas.core.frame.DataFrame'>\n",
      "RangeIndex: 33396 entries, 0 to 33395\n",
      "Data columns (total 10 columns):\n",
      " #   Column         Non-Null Count  Dtype  \n",
      "---  ------         --------------  -----  \n",
      " 0   reviewer_id    33396 non-null  int64  \n",
      " 1   store_name     33396 non-null  object \n",
      " 2   category       33396 non-null  object \n",
      " 3   store_address  33396 non-null  object \n",
      " 4   latitude       32736 non-null  float64\n",
      " 5   longitude      32736 non-null  float64\n",
      " 6   rating_count   33396 non-null  object \n",
      " 7   review_time    33396 non-null  object \n",
      " 8   review         33396 non-null  object \n",
      " 9   rating         33396 non-null  object \n",
      "dtypes: float64(2), int64(1), object(7)\n",
      "memory usage: 2.5+ MB\n"
     ]
    }
   ],
   "source": [
    "mcd.info()"
   ]
  },
  {
   "attachments": {},
   "cell_type": "markdown",
   "id": "bcec2c04",
   "metadata": {
    "papermill": {
     "duration": 0.01447,
     "end_time": "2023-06-27T11:53:23.805335",
     "exception": false,
     "start_time": "2023-06-27T11:53:23.790865",
     "status": "completed"
    },
    "tags": []
   },
   "source": [
    "* <h2>Sentiment Score Calculation:</h2>\n",
    "I utilized the SentimentIntensityAnalyzer, a popular sentiment analysis tool, to calculate sentiment scores for each review. This tool assigns a sentiment score based on the text's positivity, negativity, and neutrality."
   ]
  },
  {
   "cell_type": "code",
   "execution_count": 10,
   "id": "f99e69ed",
   "metadata": {
    "execution": {
     "iopub.execute_input": "2023-06-27T11:53:23.831261Z",
     "iopub.status.busy": "2023-06-27T11:53:23.830486Z",
     "iopub.status.idle": "2023-06-27T11:53:23.850622Z",
     "shell.execute_reply": "2023-06-27T11:53:23.849759Z"
    },
    "papermill": {
     "duration": 0.035011,
     "end_time": "2023-06-27T11:53:23.852593",
     "exception": false,
     "start_time": "2023-06-27T11:53:23.817582",
     "status": "completed"
    },
    "tags": []
   },
   "outputs": [],
   "source": [
    "sia = SentimentIntensityAnalyzer()"
   ]
  },
  {
   "cell_type": "code",
   "execution_count": 11,
   "id": "dc863b75",
   "metadata": {
    "execution": {
     "iopub.execute_input": "2023-06-27T11:53:23.878702Z",
     "iopub.status.busy": "2023-06-27T11:53:23.877829Z",
     "iopub.status.idle": "2023-06-27T11:53:34.472613Z",
     "shell.execute_reply": "2023-06-27T11:53:34.471648Z"
    },
    "papermill": {
     "duration": 10.610265,
     "end_time": "2023-06-27T11:53:34.475052",
     "exception": false,
     "start_time": "2023-06-27T11:53:23.864787",
     "status": "completed"
    },
    "tags": []
   },
   "outputs": [],
   "source": [
    "# Performing sentiment analysis on each review\n",
    "sentiments = []\n",
    "for review in mcd['review']:\n",
    "    sentiment = sia.polarity_scores(review)\n",
    "    sentiments.append(sentiment)"
   ]
  },
  {
   "attachments": {},
   "cell_type": "markdown",
   "id": "64d72f15",
   "metadata": {
    "papermill": {
     "duration": 0.012016,
     "end_time": "2023-06-27T11:53:34.499507",
     "exception": false,
     "start_time": "2023-06-27T11:53:34.487491",
     "status": "completed"
    },
    "tags": []
   },
   "source": [
    "* <h2>Sentiment Classification:</h2>\n",
    "Based on the compound score, I classified the reviews into different sentiment categories. For instance, if the compound score was above a certain threshold (e.g., 0.5), I labeled the review as positive. Conversely, if the compound score was below another threshold (e.g., -0.5), I labeled it as negative. Reviews with compound scores within the intermediate range were considered neutral.\n"
   ]
  },
  {
   "cell_type": "code",
   "execution_count": 12,
   "id": "133f4261",
   "metadata": {
    "execution": {
     "iopub.execute_input": "2023-06-27T11:53:34.524928Z",
     "iopub.status.busy": "2023-06-27T11:53:34.524590Z",
     "iopub.status.idle": "2023-06-27T11:53:34.543124Z",
     "shell.execute_reply": "2023-06-27T11:53:34.542239Z"
    },
    "papermill": {
     "duration": 0.035818,
     "end_time": "2023-06-27T11:53:34.547255",
     "exception": false,
     "start_time": "2023-06-27T11:53:34.511437",
     "status": "completed"
    },
    "tags": []
   },
   "outputs": [],
   "source": [
    "sentiment_labels = []\n",
    "for sentiment in sentiments:\n",
    "    compound_score = sentiment['compound']\n",
    "    if compound_score >= 0.05:\n",
    "        sentiment_labels.append('Positive')\n",
    "    elif compound_score <= -0.05:\n",
    "        sentiment_labels.append('Negative')\n",
    "    else:\n",
    "        sentiment_labels.append('Neutral')"
   ]
  },
  {
   "cell_type": "code",
   "execution_count": 13,
   "id": "f14ae1c8",
   "metadata": {
    "execution": {
     "iopub.execute_input": "2023-06-27T11:53:34.573910Z",
     "iopub.status.busy": "2023-06-27T11:53:34.573612Z",
     "iopub.status.idle": "2023-06-27T11:53:34.579941Z",
     "shell.execute_reply": "2023-06-27T11:53:34.579038Z"
    },
    "papermill": {
     "duration": 0.021541,
     "end_time": "2023-06-27T11:53:34.581989",
     "exception": false,
     "start_time": "2023-06-27T11:53:34.560448",
     "status": "completed"
    },
    "tags": []
   },
   "outputs": [],
   "source": [
    "# Add the sentiment labels to the DataFrame\n",
    "mcd['sentiment'] = sentiment_labels"
   ]
  },
  {
   "cell_type": "code",
   "execution_count": 14,
   "id": "a5281cca",
   "metadata": {
    "execution": {
     "iopub.execute_input": "2023-06-27T11:53:34.607245Z",
     "iopub.status.busy": "2023-06-27T11:53:34.606971Z",
     "iopub.status.idle": "2023-06-27T11:53:34.622164Z",
     "shell.execute_reply": "2023-06-27T11:53:34.621178Z"
    },
    "papermill": {
     "duration": 0.030469,
     "end_time": "2023-06-27T11:53:34.624381",
     "exception": false,
     "start_time": "2023-06-27T11:53:34.593912",
     "status": "completed"
    },
    "tags": []
   },
   "outputs": [
    {
     "data": {
      "text/html": [
       "<div>\n",
       "<style scoped>\n",
       "    .dataframe tbody tr th:only-of-type {\n",
       "        vertical-align: middle;\n",
       "    }\n",
       "\n",
       "    .dataframe tbody tr th {\n",
       "        vertical-align: top;\n",
       "    }\n",
       "\n",
       "    .dataframe thead th {\n",
       "        text-align: right;\n",
       "    }\n",
       "</style>\n",
       "<table border=\"1\" class=\"dataframe\">\n",
       "  <thead>\n",
       "    <tr style=\"text-align: right;\">\n",
       "      <th></th>\n",
       "      <th>review</th>\n",
       "      <th>sentiment</th>\n",
       "    </tr>\n",
       "  </thead>\n",
       "  <tbody>\n",
       "    <tr>\n",
       "      <th>0</th>\n",
       "      <td>Why does it look like someone spit on my food?...</td>\n",
       "      <td>Positive</td>\n",
       "    </tr>\n",
       "    <tr>\n",
       "      <th>1</th>\n",
       "      <td>It'd McDonalds. It is what it is as far as the...</td>\n",
       "      <td>Positive</td>\n",
       "    </tr>\n",
       "    <tr>\n",
       "      <th>2</th>\n",
       "      <td>Made a mobile order got to the speaker and che...</td>\n",
       "      <td>Negative</td>\n",
       "    </tr>\n",
       "    <tr>\n",
       "      <th>3</th>\n",
       "      <td>My mc. Crispy chicken sandwich was ï¿½ï¿½ï¿½ï¿...</td>\n",
       "      <td>Neutral</td>\n",
       "    </tr>\n",
       "    <tr>\n",
       "      <th>4</th>\n",
       "      <td>I repeat my order 3 times in the drive thru, a...</td>\n",
       "      <td>Negative</td>\n",
       "    </tr>\n",
       "    <tr>\n",
       "      <th>...</th>\n",
       "      <td>...</td>\n",
       "      <td>...</td>\n",
       "    </tr>\n",
       "    <tr>\n",
       "      <th>33391</th>\n",
       "      <td>They treated me very badly.</td>\n",
       "      <td>Negative</td>\n",
       "    </tr>\n",
       "    <tr>\n",
       "      <th>33392</th>\n",
       "      <td>The service is very good</td>\n",
       "      <td>Positive</td>\n",
       "    </tr>\n",
       "    <tr>\n",
       "      <th>33393</th>\n",
       "      <td>To remove hunger is enough</td>\n",
       "      <td>Negative</td>\n",
       "    </tr>\n",
       "    <tr>\n",
       "      <th>33394</th>\n",
       "      <td>It's good, but lately it has become very expen...</td>\n",
       "      <td>Positive</td>\n",
       "    </tr>\n",
       "    <tr>\n",
       "      <th>33395</th>\n",
       "      <td>they took good care of me</td>\n",
       "      <td>Positive</td>\n",
       "    </tr>\n",
       "  </tbody>\n",
       "</table>\n",
       "<p>33396 rows × 2 columns</p>\n",
       "</div>"
      ],
      "text/plain": [
       "                                                  review sentiment\n",
       "0      Why does it look like someone spit on my food?...  Positive\n",
       "1      It'd McDonalds. It is what it is as far as the...  Positive\n",
       "2      Made a mobile order got to the speaker and che...  Negative\n",
       "3      My mc. Crispy chicken sandwich was ï¿½ï¿½ï¿½ï¿...   Neutral\n",
       "4      I repeat my order 3 times in the drive thru, a...  Negative\n",
       "...                                                  ...       ...\n",
       "33391                        They treated me very badly.  Negative\n",
       "33392                           The service is very good  Positive\n",
       "33393                         To remove hunger is enough  Negative\n",
       "33394  It's good, but lately it has become very expen...  Positive\n",
       "33395                          they took good care of me  Positive\n",
       "\n",
       "[33396 rows x 2 columns]"
      ]
     },
     "execution_count": 14,
     "metadata": {},
     "output_type": "execute_result"
    }
   ],
   "source": [
    "mcd[['review', 'sentiment']]"
   ]
  },
  {
   "attachments": {},
   "cell_type": "markdown",
   "id": "d2887513",
   "metadata": {
    "papermill": {
     "duration": 0.011997,
     "end_time": "2023-06-27T11:53:34.648772",
     "exception": false,
     "start_time": "2023-06-27T11:53:34.636775",
     "status": "completed"
    },
    "tags": []
   },
   "source": [
    "<h1 style='background:#FFC72C; border:0; color:#0F4C81'><center>Machine Learning for Sentiment Analysis: Predicting McDonald's Feedback</center></h1>\n"
   ]
  },
  {
   "attachments": {},
   "cell_type": "markdown",
   "id": "ea1516cd",
   "metadata": {
    "papermill": {
     "duration": 0.011949,
     "end_time": "2023-06-27T11:53:34.672863",
     "exception": false,
     "start_time": "2023-06-27T11:53:34.660914",
     "status": "completed"
    },
    "tags": []
   },
   "source": [
    "1. <h2>Dataset Splitting:</h2>\n",
    "I divided the dataset into training and test sets to evaluate the performance of my model on unseen data. The training set was used to train the machine learning model, while the test set served as a benchmark for assessing its accuracy."
   ]
  },
  {
   "cell_type": "code",
   "execution_count": 15,
   "id": "951fd7ca",
   "metadata": {
    "execution": {
     "iopub.execute_input": "2023-06-27T11:53:34.698482Z",
     "iopub.status.busy": "2023-06-27T11:53:34.698220Z",
     "iopub.status.idle": "2023-06-27T11:53:34.707549Z",
     "shell.execute_reply": "2023-06-27T11:53:34.706752Z"
    },
    "papermill": {
     "duration": 0.024471,
     "end_time": "2023-06-27T11:53:34.709559",
     "exception": false,
     "start_time": "2023-06-27T11:53:34.685088",
     "status": "completed"
    },
    "tags": []
   },
   "outputs": [],
   "source": [
    "X = mcd['review']\n",
    "y = mcd['sentiment']\n",
    "X_train, X_test, y_train, y_test = train_test_split(X, y, test_size=0.2, random_state=42)"
   ]
  },
  {
   "attachments": {},
   "cell_type": "markdown",
   "id": "96af3ed4",
   "metadata": {
    "papermill": {
     "duration": 0.011943,
     "end_time": "2023-06-27T11:53:34.733961",
     "exception": false,
     "start_time": "2023-06-27T11:53:34.722018",
     "status": "completed"
    },
    "tags": []
   },
   "source": [
    "2. <h2>Vectorization:</h2>\n",
    "I applied vectorization techniques to convert the textual data into a numerical representation suitable for machine learning algorithms. This process involved transforming the reviews into a format that captures their features and patterns effectively."
   ]
  },
  {
   "cell_type": "code",
   "execution_count": 16,
   "id": "6afcbb38",
   "metadata": {
    "execution": {
     "iopub.execute_input": "2023-06-27T11:53:34.759520Z",
     "iopub.status.busy": "2023-06-27T11:53:34.759264Z",
     "iopub.status.idle": "2023-06-27T11:53:35.953303Z",
     "shell.execute_reply": "2023-06-27T11:53:35.952337Z"
    },
    "papermill": {
     "duration": 1.209705,
     "end_time": "2023-06-27T11:53:35.955985",
     "exception": false,
     "start_time": "2023-06-27T11:53:34.746280",
     "status": "completed"
    },
    "tags": []
   },
   "outputs": [],
   "source": [
    "vectorizer = TfidfVectorizer()\n",
    "X_train_tfidf = vectorizer.fit_transform(X_train)\n",
    "X_test_tfidf = vectorizer.transform(X_test)"
   ]
  },
  {
   "attachments": {},
   "cell_type": "markdown",
   "id": "745bf855",
   "metadata": {
    "papermill": {
     "duration": 0.016885,
     "end_time": "2023-06-27T11:53:35.990682",
     "exception": false,
     "start_time": "2023-06-27T11:53:35.973797",
     "status": "completed"
    },
    "tags": []
   },
   "source": [
    "3. <h2>Model Training (Support Vector Classifier):</h2>\n",
    "I utilized the Support Vector Classifier (SVC) algorithm to train my sentiment analysis model. SVC is a powerful machine learning algorithm commonly used for classification tasks. By training the model on the labeled training data, it learned to predict the sentiment of reviews based on their features."
   ]
  },
  {
   "cell_type": "code",
   "execution_count": 17,
   "id": "7e108a9f",
   "metadata": {
    "execution": {
     "iopub.execute_input": "2023-06-27T11:53:36.026652Z",
     "iopub.status.busy": "2023-06-27T11:53:36.025981Z",
     "iopub.status.idle": "2023-06-27T11:56:08.361730Z",
     "shell.execute_reply": "2023-06-27T11:56:08.360814Z"
    },
    "papermill": {
     "duration": 152.368337,
     "end_time": "2023-06-27T11:56:08.376262",
     "exception": false,
     "start_time": "2023-06-27T11:53:36.007925",
     "status": "completed"
    },
    "tags": []
   },
   "outputs": [
    {
     "data": {
      "text/html": [
       "<style>#sk-container-id-1 {color: black;background-color: white;}#sk-container-id-1 pre{padding: 0;}#sk-container-id-1 div.sk-toggleable {background-color: white;}#sk-container-id-1 label.sk-toggleable__label {cursor: pointer;display: block;width: 100%;margin-bottom: 0;padding: 0.3em;box-sizing: border-box;text-align: center;}#sk-container-id-1 label.sk-toggleable__label-arrow:before {content: \"▸\";float: left;margin-right: 0.25em;color: #696969;}#sk-container-id-1 label.sk-toggleable__label-arrow:hover:before {color: black;}#sk-container-id-1 div.sk-estimator:hover label.sk-toggleable__label-arrow:before {color: black;}#sk-container-id-1 div.sk-toggleable__content {max-height: 0;max-width: 0;overflow: hidden;text-align: left;background-color: #f0f8ff;}#sk-container-id-1 div.sk-toggleable__content pre {margin: 0.2em;color: black;border-radius: 0.25em;background-color: #f0f8ff;}#sk-container-id-1 input.sk-toggleable__control:checked~div.sk-toggleable__content {max-height: 200px;max-width: 100%;overflow: auto;}#sk-container-id-1 input.sk-toggleable__control:checked~label.sk-toggleable__label-arrow:before {content: \"▾\";}#sk-container-id-1 div.sk-estimator input.sk-toggleable__control:checked~label.sk-toggleable__label {background-color: #d4ebff;}#sk-container-id-1 div.sk-label input.sk-toggleable__control:checked~label.sk-toggleable__label {background-color: #d4ebff;}#sk-container-id-1 input.sk-hidden--visually {border: 0;clip: rect(1px 1px 1px 1px);clip: rect(1px, 1px, 1px, 1px);height: 1px;margin: -1px;overflow: hidden;padding: 0;position: absolute;width: 1px;}#sk-container-id-1 div.sk-estimator {font-family: monospace;background-color: #f0f8ff;border: 1px dotted black;border-radius: 0.25em;box-sizing: border-box;margin-bottom: 0.5em;}#sk-container-id-1 div.sk-estimator:hover {background-color: #d4ebff;}#sk-container-id-1 div.sk-parallel-item::after {content: \"\";width: 100%;border-bottom: 1px solid gray;flex-grow: 1;}#sk-container-id-1 div.sk-label:hover label.sk-toggleable__label {background-color: #d4ebff;}#sk-container-id-1 div.sk-serial::before {content: \"\";position: absolute;border-left: 1px solid gray;box-sizing: border-box;top: 0;bottom: 0;left: 50%;z-index: 0;}#sk-container-id-1 div.sk-serial {display: flex;flex-direction: column;align-items: center;background-color: white;padding-right: 0.2em;padding-left: 0.2em;position: relative;}#sk-container-id-1 div.sk-item {position: relative;z-index: 1;}#sk-container-id-1 div.sk-parallel {display: flex;align-items: stretch;justify-content: center;background-color: white;position: relative;}#sk-container-id-1 div.sk-item::before, #sk-container-id-1 div.sk-parallel-item::before {content: \"\";position: absolute;border-left: 1px solid gray;box-sizing: border-box;top: 0;bottom: 0;left: 50%;z-index: -1;}#sk-container-id-1 div.sk-parallel-item {display: flex;flex-direction: column;z-index: 1;position: relative;background-color: white;}#sk-container-id-1 div.sk-parallel-item:first-child::after {align-self: flex-end;width: 50%;}#sk-container-id-1 div.sk-parallel-item:last-child::after {align-self: flex-start;width: 50%;}#sk-container-id-1 div.sk-parallel-item:only-child::after {width: 0;}#sk-container-id-1 div.sk-dashed-wrapped {border: 1px dashed gray;margin: 0 0.4em 0.5em 0.4em;box-sizing: border-box;padding-bottom: 0.4em;background-color: white;}#sk-container-id-1 div.sk-label label {font-family: monospace;font-weight: bold;display: inline-block;line-height: 1.2em;}#sk-container-id-1 div.sk-label-container {text-align: center;}#sk-container-id-1 div.sk-container {/* jupyter's `normalize.less` sets `[hidden] { display: none; }` but bootstrap.min.css set `[hidden] { display: none !important; }` so we also need the `!important` here to be able to override the default hidden behavior on the sphinx rendered scikit-learn.org. See: https://github.com/scikit-learn/scikit-learn/issues/21755 */display: inline-block !important;position: relative;}#sk-container-id-1 div.sk-text-repr-fallback {display: none;}</style><div id=\"sk-container-id-1\" class=\"sk-top-container\"><div class=\"sk-text-repr-fallback\"><pre>SVC()</pre><b>In a Jupyter environment, please rerun this cell to show the HTML representation or trust the notebook. <br />On GitHub, the HTML representation is unable to render, please try loading this page with nbviewer.org.</b></div><div class=\"sk-container\" hidden><div class=\"sk-item\"><div class=\"sk-estimator sk-toggleable\"><input class=\"sk-toggleable__control sk-hidden--visually\" id=\"sk-estimator-id-1\" type=\"checkbox\" checked><label for=\"sk-estimator-id-1\" class=\"sk-toggleable__label sk-toggleable__label-arrow\">SVC</label><div class=\"sk-toggleable__content\"><pre>SVC()</pre></div></div></div></div></div>"
      ],
      "text/plain": [
       "SVC()"
      ]
     },
     "execution_count": 17,
     "metadata": {},
     "output_type": "execute_result"
    }
   ],
   "source": [
    "model = SVC()\n",
    "model.fit(X_train_tfidf, y_train)"
   ]
  },
  {
   "cell_type": "code",
   "execution_count": 18,
   "id": "f15ccbb6",
   "metadata": {
    "execution": {
     "iopub.execute_input": "2023-06-27T11:56:08.403098Z",
     "iopub.status.busy": "2023-06-27T11:56:08.402285Z",
     "iopub.status.idle": "2023-06-27T11:56:24.730922Z",
     "shell.execute_reply": "2023-06-27T11:56:24.729892Z"
    },
    "papermill": {
     "duration": 16.344586,
     "end_time": "2023-06-27T11:56:24.733356",
     "exception": false,
     "start_time": "2023-06-27T11:56:08.388770",
     "status": "completed"
    },
    "tags": []
   },
   "outputs": [],
   "source": [
    "y_pred = model.predict(X_test_tfidf)"
   ]
  },
  {
   "cell_type": "code",
   "execution_count": 19,
   "id": "b2bd957a",
   "metadata": {
    "execution": {
     "iopub.execute_input": "2023-06-27T11:56:24.760942Z",
     "iopub.status.busy": "2023-06-27T11:56:24.760603Z",
     "iopub.status.idle": "2023-06-27T11:56:25.062083Z",
     "shell.execute_reply": "2023-06-27T11:56:25.061022Z"
    },
    "papermill": {
     "duration": 0.317314,
     "end_time": "2023-06-27T11:56:25.064290",
     "exception": false,
     "start_time": "2023-06-27T11:56:24.746976",
     "status": "completed"
    },
    "tags": []
   },
   "outputs": [
    {
     "name": "stdout",
     "output_type": "stream",
     "text": [
      "Accuracy: 0.88937125748503\n",
      "Classification Report:\n",
      "              precision    recall  f1-score   support\n",
      "\n",
      "    Negative       0.82      0.87      0.85      1922\n",
      "     Neutral       0.88      0.83      0.86      1245\n",
      "    Positive       0.93      0.92      0.93      3513\n",
      "\n",
      "    accuracy                           0.89      6680\n",
      "   macro avg       0.88      0.87      0.88      6680\n",
      "weighted avg       0.89      0.89      0.89      6680\n",
      "\n"
     ]
    }
   ],
   "source": [
    "accuracy = accuracy_score(y_test, y_pred)\n",
    "print(\"Accuracy:\", accuracy)\n",
    "print(\"Classification Report:\")\n",
    "print(classification_report(y_test, y_pred))"
   ]
  },
  {
   "attachments": {},
   "cell_type": "markdown",
   "id": "c63add76",
   "metadata": {
    "papermill": {
     "duration": 0.012661,
     "end_time": "2023-06-27T11:56:25.090048",
     "exception": false,
     "start_time": "2023-06-27T11:56:25.077387",
     "status": "completed"
    },
    "tags": []
   },
   "source": [
    "4. <h2>Sentiment Prediction Function:</h2>\n",
    "To enhance usability, I created a function that takes a review as input and predicts its sentiment. This function utilizes the trained SVC model to analyze the input review's features and classify it as positive, negative, or neutral. The function provides the sentiment prediction as the output.\n"
   ]
  },
  {
   "cell_type": "code",
   "execution_count": 20,
   "id": "7d35a2ff",
   "metadata": {
    "execution": {
     "iopub.execute_input": "2023-06-27T11:56:25.117156Z",
     "iopub.status.busy": "2023-06-27T11:56:25.116134Z",
     "iopub.status.idle": "2023-06-27T11:56:25.121195Z",
     "shell.execute_reply": "2023-06-27T11:56:25.120358Z"
    },
    "papermill": {
     "duration": 0.020526,
     "end_time": "2023-06-27T11:56:25.123187",
     "exception": false,
     "start_time": "2023-06-27T11:56:25.102661",
     "status": "completed"
    },
    "tags": []
   },
   "outputs": [],
   "source": [
    "def predict_sentiment(review):\n",
    "    review_tfidf = vectorizer.transform([review])\n",
    "    sentiment = model.predict(review_tfidf)\n",
    "    return sentiment[0]"
   ]
  },
  {
   "attachments": {},
   "cell_type": "markdown",
   "id": "d1ffb303",
   "metadata": {
    "papermill": {
     "duration": 0.012571,
     "end_time": "2023-06-27T11:56:25.148217",
     "exception": false,
     "start_time": "2023-06-27T11:56:25.135646",
     "status": "completed"
    },
    "tags": []
   },
   "source": [
    "5. <h2>Sample Testing:</h2>\n",
    "To assess the model's performance, I conducted sample testing."
   ]
  },
  {
   "cell_type": "code",
   "execution_count": 21,
   "id": "742d2957",
   "metadata": {
    "execution": {
     "iopub.execute_input": "2023-06-27T11:56:25.174983Z",
     "iopub.status.busy": "2023-06-27T11:56:25.174677Z",
     "iopub.status.idle": "2023-06-27T11:56:25.187483Z",
     "shell.execute_reply": "2023-06-27T11:56:25.186156Z"
    },
    "papermill": {
     "duration": 0.028785,
     "end_time": "2023-06-27T11:56:25.189532",
     "exception": false,
     "start_time": "2023-06-27T11:56:25.160747",
     "status": "completed"
    },
    "tags": []
   },
   "outputs": [
    {
     "name": "stdout",
     "output_type": "stream",
     "text": [
      "Predicted sentiment: Positive\n"
     ]
    }
   ],
   "source": [
    "new_review = \"This restaurant has excellent service and delicious food.\"\n",
    "predicted_sentiment = predict_sentiment(new_review)\n",
    "print(\"Predicted sentiment:\", predicted_sentiment)"
   ]
  },
  {
   "cell_type": "code",
   "execution_count": 22,
   "id": "9269d800",
   "metadata": {
    "execution": {
     "iopub.execute_input": "2023-06-27T11:56:25.215785Z",
     "iopub.status.busy": "2023-06-27T11:56:25.215523Z",
     "iopub.status.idle": "2023-06-27T11:56:25.226763Z",
     "shell.execute_reply": "2023-06-27T11:56:25.225715Z"
    },
    "papermill": {
     "duration": 0.026649,
     "end_time": "2023-06-27T11:56:25.228763",
     "exception": false,
     "start_time": "2023-06-27T11:56:25.202114",
     "status": "completed"
    },
    "tags": []
   },
   "outputs": [
    {
     "name": "stdout",
     "output_type": "stream",
     "text": [
      "Predicted sentiment: Negative\n"
     ]
    }
   ],
   "source": [
    "new_review2 = \"This restaurant sucks.\"\n",
    "predicted_sentiment = predict_sentiment(new_review2)\n",
    "print(\"Predicted sentiment:\", predicted_sentiment)"
   ]
  },
  {
   "cell_type": "code",
   "execution_count": 23,
   "id": "8bae4672",
   "metadata": {
    "execution": {
     "iopub.execute_input": "2023-06-27T11:56:25.255262Z",
     "iopub.status.busy": "2023-06-27T11:56:25.254998Z",
     "iopub.status.idle": "2023-06-27T11:56:25.265632Z",
     "shell.execute_reply": "2023-06-27T11:56:25.264441Z"
    },
    "papermill": {
     "duration": 0.026345,
     "end_time": "2023-06-27T11:56:25.267782",
     "exception": false,
     "start_time": "2023-06-27T11:56:25.241437",
     "status": "completed"
    },
    "tags": []
   },
   "outputs": [
    {
     "name": "stdout",
     "output_type": "stream",
     "text": [
      "Predicted sentiment: Positive\n"
     ]
    }
   ],
   "source": [
    "new_review3 = \"This is fine\"\n",
    "predicted_sentiment = predict_sentiment(new_review3)\n",
    "print(\"Predicted sentiment:\", predicted_sentiment)"
   ]
  },
  {
   "cell_type": "code",
   "execution_count": 24,
   "id": "b5e7d6b0",
   "metadata": {
    "execution": {
     "iopub.execute_input": "2023-06-27T11:56:25.294479Z",
     "iopub.status.busy": "2023-06-27T11:56:25.294223Z",
     "iopub.status.idle": "2023-06-27T11:56:25.304389Z",
     "shell.execute_reply": "2023-06-27T11:56:25.303379Z"
    },
    "papermill": {
     "duration": 0.025797,
     "end_time": "2023-06-27T11:56:25.306286",
     "exception": false,
     "start_time": "2023-06-27T11:56:25.280489",
     "status": "completed"
    },
    "tags": []
   },
   "outputs": [
    {
     "name": "stdout",
     "output_type": "stream",
     "text": [
      "Predicted sentiment: Neutral\n"
     ]
    }
   ],
   "source": [
    "new_review4 = \"This is dull\"\n",
    "predicted_sentiment = predict_sentiment(new_review4)\n",
    "print(\"Predicted sentiment:\", predicted_sentiment)"
   ]
  },
  {
   "cell_type": "code",
   "execution_count": 25,
   "id": "5d233873",
   "metadata": {
    "execution": {
     "iopub.execute_input": "2023-06-27T11:56:25.333282Z",
     "iopub.status.busy": "2023-06-27T11:56:25.332487Z",
     "iopub.status.idle": "2023-06-27T11:56:25.342437Z",
     "shell.execute_reply": "2023-06-27T11:56:25.341066Z"
    },
    "papermill": {
     "duration": 0.025443,
     "end_time": "2023-06-27T11:56:25.344449",
     "exception": false,
     "start_time": "2023-06-27T11:56:25.319006",
     "status": "completed"
    },
    "tags": []
   },
   "outputs": [
    {
     "name": "stdout",
     "output_type": "stream",
     "text": [
      "Predicted sentiment: Negative\n"
     ]
    }
   ],
   "source": [
    "new_review5 = \"its bad\"\n",
    "predicted_sentiment = predict_sentiment(new_review5)\n",
    "print(\"Predicted sentiment:\", predicted_sentiment)"
   ]
  },
  {
   "attachments": {},
   "cell_type": "markdown",
   "id": "5f64f6e7",
   "metadata": {
    "papermill": {
     "duration": 0.012852,
     "end_time": "2023-06-27T11:56:25.370101",
     "exception": false,
     "start_time": "2023-06-27T11:56:25.357249",
     "status": "completed"
    },
    "tags": []
   },
   "source": [
    "<h1 style='background:#FFC72C; border:0; color:#0C6157'><center>Web-based GUI Development: Enhancing McDonald's Sentiment Analysis</center></h1>\n"
   ]
  },
  {
   "attachments": {},
   "cell_type": "markdown",
   "id": "fa13465c",
   "metadata": {
    "papermill": {
     "duration": 0.012735,
     "end_time": "2023-06-27T11:56:25.395729",
     "exception": false,
     "start_time": "2023-06-27T11:56:25.382994",
     "status": "completed"
    },
    "tags": []
   },
   "source": [
    "**In the near future, I plan to add a web-based GUI to my project using frameworks like Django, Flask, or Streamlit. This GUI will enable users to input their text, such as a review, and receive real-time sentiment predictions, enhancing accessibility and usability.**"
   ]
  },
  {
   "cell_type": "code",
   "execution_count": 26,
   "id": "8b6fdf78",
   "metadata": {
    "execution": {
     "iopub.execute_input": "2023-06-27T11:56:25.424851Z",
     "iopub.status.busy": "2023-06-27T11:56:25.424560Z",
     "iopub.status.idle": "2023-06-27T11:56:25.434018Z",
     "shell.execute_reply": "2023-06-27T11:56:25.433199Z"
    },
    "papermill": {
     "duration": 0.027408,
     "end_time": "2023-06-27T11:56:25.436014",
     "exception": false,
     "start_time": "2023-06-27T11:56:25.408606",
     "status": "completed"
    },
    "tags": []
   },
   "outputs": [],
   "source": [
    "import pickle\n",
    "\n",
    "with open('mcdmodel.pkl', 'wb') as file:\n",
    "    pickle.dump(model, file)\n"
   ]
  },
  {
   "cell_type": "code",
   "execution_count": 27,
   "id": "fde363d6",
   "metadata": {
    "execution": {
     "iopub.execute_input": "2023-06-27T11:56:25.463311Z",
     "iopub.status.busy": "2023-06-27T11:56:25.462495Z",
     "iopub.status.idle": "2023-06-27T11:56:25.470404Z",
     "shell.execute_reply": "2023-06-27T11:56:25.469595Z"
    },
    "papermill": {
     "duration": 0.023539,
     "end_time": "2023-06-27T11:56:25.472337",
     "exception": false,
     "start_time": "2023-06-27T11:56:25.448798",
     "status": "completed"
    },
    "tags": []
   },
   "outputs": [],
   "source": [
    "with open('vectorizer.pkl', 'wb') as file:\n",
    "    pickle.dump(vectorizer, file)"
   ]
  },
  {
   "attachments": {},
   "cell_type": "markdown",
   "id": "d626bf35",
   "metadata": {
    "papermill": {
     "duration": 0.012648,
     "end_time": "2023-06-27T11:56:25.498019",
     "exception": false,
     "start_time": "2023-06-27T11:56:25.485371",
     "status": "completed"
    },
    "tags": []
   },
   "source": [
    "**Thank you for your support! Your votes and suggestions are greatly appreciated as we continue to improve this project together.**"
   ]
  }
 ],
 "metadata": {
  "kernelspec": {
   "display_name": "Python 3",
   "language": "python",
   "name": "python3"
  },
  "language_info": {
   "codemirror_mode": {
    "name": "ipython",
    "version": 3
   },
   "file_extension": ".py",
   "mimetype": "text/x-python",
   "name": "python",
   "nbconvert_exporter": "python",
   "pygments_lexer": "ipython3",
   "version": "3.10.10"
  },
  "papermill": {
   "default_parameters": {},
   "duration": 195.872841,
   "end_time": "2023-06-27T11:56:26.230611",
   "environment_variables": {},
   "exception": null,
   "input_path": "__notebook__.ipynb",
   "output_path": "__notebook__.ipynb",
   "parameters": {},
   "start_time": "2023-06-27T11:53:10.357770",
   "version": "2.4.0"
  }
 },
 "nbformat": 4,
 "nbformat_minor": 5
}
